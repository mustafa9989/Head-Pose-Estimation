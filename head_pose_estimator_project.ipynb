{
  "nbformat": 4,
  "nbformat_minor": 0,
  "metadata": {
    "colab": {
      "provenance": []
    },
    "kernelspec": {
      "name": "python3",
      "display_name": "Python 3"
    },
    "language_info": {
      "name": "python"
    }
  },
  "cells": [
    {
      "cell_type": "markdown",
      "source": [
        "## importing proper libraries"
      ],
      "metadata": {
        "id": "G4H1QWjW9tAk"
      }
    },
    {
      "cell_type": "code",
      "source": [
        "%%capture\n",
        "!pip install  mediapipe"
      ],
      "metadata": {
        "id": "n83unRf9M38_"
      },
      "execution_count": 1,
      "outputs": []
    },
    {
      "cell_type": "code",
      "source": [
        "import numpy as np\n",
        "import os,cv2,math,glob,random\n",
        "import scipy.io as sio\n",
        "from math import cos, sin\n",
        "from pathlib import Path\n",
        "import pandas as pd\n",
        "import mediapipe as mp\n",
        "import warnings\n",
        "warnings.filterwarnings('ignore')\n",
        "from google.colab.patches import cv2_imshow"
      ],
      "metadata": {
        "id": "8IGKYo4BBB_n"
      },
      "execution_count": 2,
      "outputs": []
    },
    {
      "cell_type": "code",
      "source": [
        "from google.colab import files\n",
        "uploaded = files.upload()"
      ],
      "metadata": {
        "colab": {
          "base_uri": "https://localhost:8080/",
          "height": 73
        },
        "id": "qWVRSILKBCFE",
        "outputId": "13e9d628-9f2f-4a41-93d5-b15301fade32"
      },
      "execution_count": 5,
      "outputs": [
        {
          "output_type": "display_data",
          "data": {
            "text/plain": [
              "<IPython.core.display.HTML object>"
            ],
            "text/html": [
              "\n",
              "     <input type=\"file\" id=\"files-dd6de9e1-66b6-4802-b981-35fad99237a0\" name=\"files[]\" multiple disabled\n",
              "        style=\"border:none\" />\n",
              "     <output id=\"result-dd6de9e1-66b6-4802-b981-35fad99237a0\">\n",
              "      Upload widget is only available when the cell has been executed in the\n",
              "      current browser session. Please rerun this cell to enable.\n",
              "      </output>\n",
              "      <script>// Copyright 2017 Google LLC\n",
              "//\n",
              "// Licensed under the Apache License, Version 2.0 (the \"License\");\n",
              "// you may not use this file except in compliance with the License.\n",
              "// You may obtain a copy of the License at\n",
              "//\n",
              "//      http://www.apache.org/licenses/LICENSE-2.0\n",
              "//\n",
              "// Unless required by applicable law or agreed to in writing, software\n",
              "// distributed under the License is distributed on an \"AS IS\" BASIS,\n",
              "// WITHOUT WARRANTIES OR CONDITIONS OF ANY KIND, either express or implied.\n",
              "// See the License for the specific language governing permissions and\n",
              "// limitations under the License.\n",
              "\n",
              "/**\n",
              " * @fileoverview Helpers for google.colab Python module.\n",
              " */\n",
              "(function(scope) {\n",
              "function span(text, styleAttributes = {}) {\n",
              "  const element = document.createElement('span');\n",
              "  element.textContent = text;\n",
              "  for (const key of Object.keys(styleAttributes)) {\n",
              "    element.style[key] = styleAttributes[key];\n",
              "  }\n",
              "  return element;\n",
              "}\n",
              "\n",
              "// Max number of bytes which will be uploaded at a time.\n",
              "const MAX_PAYLOAD_SIZE = 100 * 1024;\n",
              "\n",
              "function _uploadFiles(inputId, outputId) {\n",
              "  const steps = uploadFilesStep(inputId, outputId);\n",
              "  const outputElement = document.getElementById(outputId);\n",
              "  // Cache steps on the outputElement to make it available for the next call\n",
              "  // to uploadFilesContinue from Python.\n",
              "  outputElement.steps = steps;\n",
              "\n",
              "  return _uploadFilesContinue(outputId);\n",
              "}\n",
              "\n",
              "// This is roughly an async generator (not supported in the browser yet),\n",
              "// where there are multiple asynchronous steps and the Python side is going\n",
              "// to poll for completion of each step.\n",
              "// This uses a Promise to block the python side on completion of each step,\n",
              "// then passes the result of the previous step as the input to the next step.\n",
              "function _uploadFilesContinue(outputId) {\n",
              "  const outputElement = document.getElementById(outputId);\n",
              "  const steps = outputElement.steps;\n",
              "\n",
              "  const next = steps.next(outputElement.lastPromiseValue);\n",
              "  return Promise.resolve(next.value.promise).then((value) => {\n",
              "    // Cache the last promise value to make it available to the next\n",
              "    // step of the generator.\n",
              "    outputElement.lastPromiseValue = value;\n",
              "    return next.value.response;\n",
              "  });\n",
              "}\n",
              "\n",
              "/**\n",
              " * Generator function which is called between each async step of the upload\n",
              " * process.\n",
              " * @param {string} inputId Element ID of the input file picker element.\n",
              " * @param {string} outputId Element ID of the output display.\n",
              " * @return {!Iterable<!Object>} Iterable of next steps.\n",
              " */\n",
              "function* uploadFilesStep(inputId, outputId) {\n",
              "  const inputElement = document.getElementById(inputId);\n",
              "  inputElement.disabled = false;\n",
              "\n",
              "  const outputElement = document.getElementById(outputId);\n",
              "  outputElement.innerHTML = '';\n",
              "\n",
              "  const pickedPromise = new Promise((resolve) => {\n",
              "    inputElement.addEventListener('change', (e) => {\n",
              "      resolve(e.target.files);\n",
              "    });\n",
              "  });\n",
              "\n",
              "  const cancel = document.createElement('button');\n",
              "  inputElement.parentElement.appendChild(cancel);\n",
              "  cancel.textContent = 'Cancel upload';\n",
              "  const cancelPromise = new Promise((resolve) => {\n",
              "    cancel.onclick = () => {\n",
              "      resolve(null);\n",
              "    };\n",
              "  });\n",
              "\n",
              "  // Wait for the user to pick the files.\n",
              "  const files = yield {\n",
              "    promise: Promise.race([pickedPromise, cancelPromise]),\n",
              "    response: {\n",
              "      action: 'starting',\n",
              "    }\n",
              "  };\n",
              "\n",
              "  cancel.remove();\n",
              "\n",
              "  // Disable the input element since further picks are not allowed.\n",
              "  inputElement.disabled = true;\n",
              "\n",
              "  if (!files) {\n",
              "    return {\n",
              "      response: {\n",
              "        action: 'complete',\n",
              "      }\n",
              "    };\n",
              "  }\n",
              "\n",
              "  for (const file of files) {\n",
              "    const li = document.createElement('li');\n",
              "    li.append(span(file.name, {fontWeight: 'bold'}));\n",
              "    li.append(span(\n",
              "        `(${file.type || 'n/a'}) - ${file.size} bytes, ` +\n",
              "        `last modified: ${\n",
              "            file.lastModifiedDate ? file.lastModifiedDate.toLocaleDateString() :\n",
              "                                    'n/a'} - `));\n",
              "    const percent = span('0% done');\n",
              "    li.appendChild(percent);\n",
              "\n",
              "    outputElement.appendChild(li);\n",
              "\n",
              "    const fileDataPromise = new Promise((resolve) => {\n",
              "      const reader = new FileReader();\n",
              "      reader.onload = (e) => {\n",
              "        resolve(e.target.result);\n",
              "      };\n",
              "      reader.readAsArrayBuffer(file);\n",
              "    });\n",
              "    // Wait for the data to be ready.\n",
              "    let fileData = yield {\n",
              "      promise: fileDataPromise,\n",
              "      response: {\n",
              "        action: 'continue',\n",
              "      }\n",
              "    };\n",
              "\n",
              "    // Use a chunked sending to avoid message size limits. See b/62115660.\n",
              "    let position = 0;\n",
              "    do {\n",
              "      const length = Math.min(fileData.byteLength - position, MAX_PAYLOAD_SIZE);\n",
              "      const chunk = new Uint8Array(fileData, position, length);\n",
              "      position += length;\n",
              "\n",
              "      const base64 = btoa(String.fromCharCode.apply(null, chunk));\n",
              "      yield {\n",
              "        response: {\n",
              "          action: 'append',\n",
              "          file: file.name,\n",
              "          data: base64,\n",
              "        },\n",
              "      };\n",
              "\n",
              "      let percentDone = fileData.byteLength === 0 ?\n",
              "          100 :\n",
              "          Math.round((position / fileData.byteLength) * 100);\n",
              "      percent.textContent = `${percentDone}% done`;\n",
              "\n",
              "    } while (position < fileData.byteLength);\n",
              "  }\n",
              "\n",
              "  // All done.\n",
              "  yield {\n",
              "    response: {\n",
              "      action: 'complete',\n",
              "    }\n",
              "  };\n",
              "}\n",
              "\n",
              "scope.google = scope.google || {};\n",
              "scope.google.colab = scope.google.colab || {};\n",
              "scope.google.colab._files = {\n",
              "  _uploadFiles,\n",
              "  _uploadFilesContinue,\n",
              "};\n",
              "})(self);\n",
              "</script> "
            ]
          },
          "metadata": {}
        },
        {
          "output_type": "stream",
          "name": "stdout",
          "text": [
            "Saving AFLW2000-3D.zip to AFLW2000-3D.zip\n"
          ]
        }
      ]
    },
    {
      "cell_type": "markdown",
      "source": [
        "# Loading the data"
      ],
      "metadata": {
        "id": "MMH02WbWB0NQ"
      }
    },
    {
      "cell_type": "markdown",
      "source": [
        "This cell about is loading the AFLW2000 dataset, which contains 2000 annotated 3D facial scans of human faces. The dataset is stored in a compressed zip file called \"AFLW2000-3D.zip\" and is located in the current working directory.\n",
        "\n",
        "Here's a breakdown of what each line of the code is doing:\n",
        "\n",
        "import zipfile: This imports the zipfile module, which provides tools for working with compressed zip files in Python.\n",
        "\n",
        "path = '/content/AFLW2000-3D.zip': This sets the path variable to the file path of the zip file containing the AFLW2000 dataset.\n",
        "\n",
        "zip_object = zipfile.ZipFile(file = path,mode = 'r'): This creates a ZipFile object that represents the compressed zip file at the specified file path. The mode argument is set to \"r\" to indicate that the zip file is being opened in read mode.\n",
        "\n",
        "zip_object.extractall('./'): This extracts all the files in the zip archive to the current working directory, which is specified as './'. The extractall() method is used to extract all files and directories in the archive.\n",
        "\n",
        "zip_object.close(): This closes the ZipFile object, releasing any resources that it was using"
      ],
      "metadata": {
        "id": "UTQdxmDWNSgj"
      }
    },
    {
      "cell_type": "code",
      "source": [
        "# Loading AFLW2000 Data\n",
        "import zipfile\n",
        "path = '/content/AFLW2000-3D.zip'\n",
        "zip_object = zipfile.ZipFile(file = path,mode = 'r')\n",
        "zip_object.extractall('./')\n",
        "zip_object.close()"
      ],
      "metadata": {
        "id": "fXM43MMuBCKH"
      },
      "execution_count": 3,
      "outputs": []
    },
    {
      "cell_type": "markdown",
      "source": [
        "here we extract just the images using glob , and they are 2000 images"
      ],
      "metadata": {
        "id": "u3UZM28tNcza"
      }
    },
    {
      "cell_type": "code",
      "source": [
        "images = sorted(glob.glob(\"/content/AFLW2000/*.jpg\"))\n",
        "len(images)"
      ],
      "metadata": {
        "colab": {
          "base_uri": "https://localhost:8080/"
        },
        "id": "gw8Pp3R1BCPE",
        "outputId": "04b96143-06c9-4403-999a-e5a2346e6f56"
      },
      "execution_count": 4,
      "outputs": [
        {
          "output_type": "execute_result",
          "data": {
            "text/plain": [
              "2000"
            ]
          },
          "metadata": {},
          "execution_count": 4
        }
      ]
    },
    {
      "cell_type": "markdown",
      "source": [
        "here we extract just the matlab files using glob , and they are 2000 matfiles"
      ],
      "metadata": {
        "id": "m5koaHw2Nl32"
      }
    },
    {
      "cell_type": "code",
      "source": [
        "mat_files = sorted(glob.glob(\"/content/AFLW2000/*.mat\"))\n",
        "len(mat_files)"
      ],
      "metadata": {
        "colab": {
          "base_uri": "https://localhost:8080/"
        },
        "id": "tS05WG7WBCTr",
        "outputId": "2218b89b-ea7a-4d09-92ce-5115cac280b4"
      },
      "execution_count": 5,
      "outputs": [
        {
          "output_type": "execute_result",
          "data": {
            "text/plain": [
              "2000"
            ]
          },
          "metadata": {},
          "execution_count": 5
        }
      ]
    },
    {
      "cell_type": "markdown",
      "source": [
        "# Extracting the  features and labels from the images and Mat files"
      ],
      "metadata": {
        "id": "SWNzXFGuCvdX"
      }
    },
    {
      "cell_type": "markdown",
      "source": [
        "getting_poses is a function that recieves the mat files and gets the poses of the face which will be our labels"
      ],
      "metadata": {
        "id": "MW4rtIlG-e3P"
      }
    },
    {
      "cell_type": "code",
      "source": [
        "#function to extract single label\n",
        "def getting_poses(file):\n",
        "    labels = []\n",
        "    mat_file = sio.loadmat(file)\n",
        "    pose_param = mat_file[\"Pose_Para\"][0][:3]\n",
        "    return pose_param  "
      ],
      "metadata": {
        "id": "L1vx1od9BCX9"
      },
      "execution_count": 6,
      "outputs": []
    },
    {
      "cell_type": "markdown",
      "source": [
        "This is cell contains a function called getting_data() that takes in two arguments: images and files. The images argument is a list of file paths to images of human faces, and the files argument is a corresponding list of file names for the images.\n",
        "\n",
        "Here's a breakdown of what each line of the code is doing:\n",
        "\n",
        "labels = []: This initializes an empty list called labels that will be used to store the pose parameters for each face.\n",
        "\n",
        "x_1 = []: This initializes an empty list called x_1 that will be used to store the x-coordinates of the face landmarks for each image.\n",
        "\n",
        "y_1 = []: This initializes an empty list called y_1 that will be used to store the y-coordinates of the face landmarks for each image.\n",
        "\n",
        "face_mesh = mp.solutions.face_mesh.FaceMesh(static_image_mode=True): This creates an instance of the FaceMesh class from the Mediapipe library, which will be used to detect and extract the 468 facial landmarks from each image.\n",
        "\n",
        "for (image,file) in zip(images,files):: This starts a loop that iterates over each pair of image and file in the images and files lists, respectively.\n",
        "\n",
        "img = cv2.imread(image): This uses the cv2.imread() function from OpenCV to read in the image at the current iteration.\n",
        "\n",
        "height,width,_ = img.shape: This retrieves the height and width of the image, which will be used to convert the relative landmark positions to absolute pixel positions.\n",
        "\n",
        "img_new = cv2.cvtColor(img,cv2.COLOR_BGR2RGB): This converts the image from BGR format (which is the default format used by OpenCV) to RGB format (which is the format expected by Mediapipe).\n",
        "\n",
        "result = face_mesh.process(img_new): This processes the image using the process() method of the FaceMesh class, which returns a FaceMeshResults object containing information about the detected facial landmarks.\n",
        "\n",
        "if result.multi_face_landmarks != None:: This checks if there are any faces detected in the image. If there are no faces, the code inside the if block is skipped.\n",
        "\n",
        "for face in result.multi_face_landmarks:: This starts a loop that iterates over each detected face in the image.\n",
        "\n",
        "x_list = []: This initializes an empty list called x_list that will be used to store the x-coordinates of the landmarks for the current face.\n",
        "\n",
        "y_list = []: This initializes an empty list called y_list that will be used to store the y-coordinates of the landmarks for the current face.\n",
        "\n",
        "for landmark in face.landmark:: This starts a loop that iterates over each of the 468 facial landmarks for the current face.\n",
        "\n",
        "x = landmark.x: This retrieves the normalized x-coordinate of the current landmark, which ranges from 0 to 1.\n",
        "\n",
        "y = landmark.y: This retrieves the normalized y-coordinate of the current landmark, which also ranges from 0 to 1.\n",
        "\n",
        "relative_x = int(x * width): This converts the normalized x-coordinate to an absolute pixel position by multiplying it by the width of the image and rounding it to the nearest integer.\n",
        "\n",
        "relative_y = int(y * height): This converts the normalized y-coordinate to an absolute pixel position by multiplying it by the height of the image and rounding it to the nearest integer.\n",
        "\n",
        "x_list.append(relative_x): This adds the absolute x-coordinate of the current"
      ],
      "metadata": {
        "id": "n0sD9eMb-4_B"
      }
    },
    {
      "cell_type": "code",
      "source": [
        "# function to extract features and labels\n",
        "def getting_data(images,files):\n",
        "    labels = []\n",
        "    x_1 = []\n",
        "    y_1 = []\n",
        "    face_mesh = mp.solutions.face_mesh.FaceMesh(static_image_mode=True)\n",
        "    for (image,file) in zip(images,files):\n",
        "        img = cv2.imread(image)\n",
        "        height,width,_ = img.shape\n",
        "        img_new = cv2.cvtColor(img,cv2.COLOR_BGR2RGB)\n",
        "        result = face_mesh.process(img_new)\n",
        "        if result.multi_face_landmarks != None:\n",
        "            for face in result.multi_face_landmarks:\n",
        "                x_list = []\n",
        "                y_list = []\n",
        "                for landmark in face.landmark:\n",
        "                    x = landmark.x\n",
        "                    y = landmark.y\n",
        "                    relative_x = int(x * width)\n",
        "                    relative_y = int(y * height)\n",
        "                    x_list.append(relative_x)\n",
        "                    y_list.append(relative_y)\n",
        "                x_array = np.array(x_list)\n",
        "                y_array = np.array(y_list)\n",
        "\n",
        "                x_1.append(x_array)\n",
        "                y_1.append(y_array)\n",
        "\n",
        "                x_arr = np.array(x_1)\n",
        "                y_arr = np.array(y_1)\n",
        "                pose_param = getting_poses(file)\n",
        "                labels.append(pose_param)\n",
        "    labels = np.array(labels)\n",
        "    return x_arr,y_arr,labels"
      ],
      "metadata": {
        "id": "A30kudoMBCcw"
      },
      "execution_count": 7,
      "outputs": []
    },
    {
      "cell_type": "markdown",
      "source": [
        "here we have 1853 images with right poses and 147 images with wrong poses with , the missed 147 images are due to that mediapipe library could not identifiy the face landmarks ,\n",
        "\n",
        "and we have 468 ***X*** points and 468 ***Y*** points which represent the landmarks for each face \n",
        "\n",
        "finally, we have also 3 labels which are pitch , yaw and roll for each image "
      ],
      "metadata": {
        "id": "JR1Bx-mlPGj2"
      }
    },
    {
      "cell_type": "code",
      "source": [
        "x_array,y_array,labels = getting_data(images,mat_files)\n",
        "print(x_array.shape)\n",
        "print(y_array.shape)\n",
        "print(labels.shape)"
      ],
      "metadata": {
        "colab": {
          "base_uri": "https://localhost:8080/"
        },
        "id": "x-0dt7s7BChZ",
        "outputId": "b77a8ba3-f9e5-4069-a7a5-02a799e9fa79"
      },
      "execution_count": 8,
      "outputs": [
        {
          "output_type": "stream",
          "name": "stdout",
          "text": [
            "(1853, 468)\n",
            "(1853, 468)\n",
            "(1853, 3)\n"
          ]
        }
      ]
    },
    {
      "cell_type": "code",
      "source": [],
      "metadata": {
        "id": "HyctufduBCq2"
      },
      "execution_count": null,
      "outputs": []
    },
    {
      "cell_type": "markdown",
      "source": [
        "# Normalizing the data"
      ],
      "metadata": {
        "id": "mqPH0AYkYSGY"
      }
    },
    {
      "cell_type": "markdown",
      "source": [
        "The code first computes the difference between the x-coordinates and y-coordinates of each point and the x-coordinate and y-coordinate of the point at index 195, respectively. This centers the data around point 195.\n",
        "\n",
        "Next, it computes the distance between point 10 and point 152 and normalizes the x-coordinates and y-coordinates by this distance. This step is performed to ensure that all points are on the same scale.\n",
        "\n",
        "Finally, it concatenates the normalized x-coordinates and y-coordinates to form the complete features matrix."
      ],
      "metadata": {
        "id": "PFvy_F3O_2Ye"
      }
    },
    {
      "cell_type": "code",
      "source": [
        "# the data should be normalized around the center of the face\n",
        "# center = 195\n",
        "# Top of Head = 10\n",
        "# Bottom of Head = 152\n",
        "x_center = x_array - x_array[:,195].reshape(-1,1)\n",
        "y_center = y_array - y_array[:,195].reshape(-1,1)\n",
        "\n",
        "# normalizing the data to be in the same scale by dividing over the distance between point 10 and point 152\n",
        "x_152 = x_array[:,152]\n",
        "x_10 = x_array[:,10]\n",
        "y_152 = y_array[:,152]\n",
        "y_10 = y_array[:,10]\n",
        "\n",
        "# computing the distance\n",
        "distance = np.linalg.norm(np.array((x_10,y_10)) - np.array((x_152,y_152)),axis = 0).reshape(-1,1)\n",
        "x_norm = x_center / distance\n",
        "y_norm = y_center / distance\n",
        "\n",
        "\n",
        "\n",
        "# concatinating the X and Y points to form the compelete features\n",
        "features = np.hstack([x_norm,y_norm])\n",
        "\n",
        "print(features.shape)"
      ],
      "metadata": {
        "colab": {
          "base_uri": "https://localhost:8080/"
        },
        "id": "FVMis4JrBCu6",
        "outputId": "a36a275a-a7c1-4ba5-b0ef-531544f701b1"
      },
      "execution_count": 9,
      "outputs": [
        {
          "output_type": "stream",
          "name": "stdout",
          "text": [
            "(1853, 936)\n"
          ]
        }
      ]
    },
    {
      "cell_type": "code",
      "source": [],
      "metadata": {
        "id": "cREsg6upBCyx"
      },
      "execution_count": null,
      "outputs": []
    },
    {
      "cell_type": "markdown",
      "source": [
        "# The Model"
      ],
      "metadata": {
        "id": "K1SiA5g4tdmG"
      }
    },
    {
      "cell_type": "markdown",
      "source": [
        "taking a copy from my features and labels"
      ],
      "metadata": {
        "id": "37PyFubLA_0U"
      }
    },
    {
      "cell_type": "code",
      "source": [
        "x = features.copy()\n",
        "y = labels.copy()"
      ],
      "metadata": {
        "id": "T1OSCJzZBC2y"
      },
      "execution_count": 10,
      "outputs": []
    },
    {
      "cell_type": "markdown",
      "source": [
        "**importing the proper libraries for making a machine learning model**"
      ],
      "metadata": {
        "id": "vckdFiNWA-_K"
      }
    },
    {
      "cell_type": "code",
      "source": [
        "from sklearn.model_selection import train_test_split\n",
        "from sklearn.multioutput import MultiOutputRegressor\n",
        "from sklearn.metrics import r2_score,mean_squared_error\n",
        "from sklearn.svm import SVR\n",
        "from sklearn.model_selection import GridSearchCV"
      ],
      "metadata": {
        "id": "eM6ZdUTcZeqL"
      },
      "execution_count": 11,
      "outputs": []
    },
    {
      "cell_type": "markdown",
      "source": [
        "**splitting the data into training and testing sets**"
      ],
      "metadata": {
        "id": "ZXsA98ZTBQR9"
      }
    },
    {
      "cell_type": "code",
      "source": [
        "#test the data \n",
        "x_train, x_val, y_train, y_val = train_test_split(x, y, test_size=0.2, random_state=10)"
      ],
      "metadata": {
        "id": "OOaKT7hMBC6i"
      },
      "execution_count": 12,
      "outputs": []
    },
    {
      "cell_type": "code",
      "source": [],
      "metadata": {
        "id": "-mv0ESYeBC95"
      },
      "execution_count": null,
      "outputs": []
    },
    {
      "cell_type": "code",
      "source": [],
      "metadata": {
        "id": "5_TxSJJYgGZV"
      },
      "execution_count": null,
      "outputs": []
    },
    {
      "cell_type": "code",
      "source": [],
      "metadata": {
        "id": "4wChzf-XgGfH"
      },
      "execution_count": null,
      "outputs": []
    },
    {
      "cell_type": "markdown",
      "source": [
        "## performing grid search to obtain best parameters "
      ],
      "metadata": {
        "id": "CxYNxhrvtko_"
      }
    },
    {
      "cell_type": "markdown",
      "source": [
        "here in the next cell we are performing hyperparameter tunning using Gridsearch\n",
        "\n",
        "The param_grid dictionary defines a list of hyperparameters for the SVR estimator\n",
        "\n",
        "the mean squared error will be used as the evaluation metric for the grid search."
      ],
      "metadata": {
        "id": "um4qheC_BjcV"
      }
    },
    {
      "cell_type": "code",
      "source": [
        "param_grid = {'estimator__kernel':['linear', 'poly', 'rbf', 'sigmoid'],'estimator__C':[0.01,0.1,1,10,100]}\n",
        "scoring = 'neg_mean_squared_error'\n",
        "svr_pose = SVR()\n",
        "multi_output = MultiOutputRegressor(svr_pose)\n",
        "grid_search = GridSearchCV(estimator=multi_output, param_grid=param_grid, scoring=scoring, cv=5)\n",
        "grid_search.fit(x_train,y_train)"
      ],
      "metadata": {
        "colab": {
          "base_uri": "https://localhost:8080/"
        },
        "id": "i4mw0xQcgGll",
        "outputId": "3b2024c2-a48d-4163-b8b0-e79717264baf"
      },
      "execution_count": 13,
      "outputs": [
        {
          "output_type": "execute_result",
          "data": {
            "text/plain": [
              "GridSearchCV(cv=5, estimator=MultiOutputRegressor(estimator=SVR()),\n",
              "             param_grid={'estimator__C': [0.01, 0.1, 1, 10, 100],\n",
              "                         'estimator__kernel': ['linear', 'poly', 'rbf',\n",
              "                                               'sigmoid']},\n",
              "             scoring='neg_mean_squared_error')"
            ]
          },
          "metadata": {},
          "execution_count": 13
        }
      ]
    },
    {
      "cell_type": "code",
      "source": [
        "# test the model \n",
        "y_pred = grid_search.predict(x_val)\n",
        "print(f\"R2 score:validation = {r2_score(y_val,y_pred)}\")\n",
        "mse = mean_squared_error(y_val, y_pred)\n",
        "\n",
        "print(\"Mean squared error on validation data:\", mse)"
      ],
      "metadata": {
        "colab": {
          "base_uri": "https://localhost:8080/"
        },
        "id": "sqFAy2SPYFnI",
        "outputId": "fef4dcf4-3ee2-432e-a417-8f1bcd0141b2"
      },
      "execution_count": 14,
      "outputs": [
        {
          "output_type": "stream",
          "name": "stdout",
          "text": [
            "R2 score:validation = 0.8092922237934849\n",
            "Mean squared error on validation data: 0.023982547066660902\n"
          ]
        }
      ]
    },
    {
      "cell_type": "markdown",
      "source": [
        "**this function recives an image and extracts the features of the image using mediapipe library and get the nose coordinates in the face**"
      ],
      "metadata": {
        "id": "1vy-RLEaSamo"
      }
    },
    {
      "cell_type": "code",
      "source": [
        "\n",
        "def getting_main_points(image):\n",
        "    features = []\n",
        "    face_mesh = mp.solutions.face_mesh.FaceMesh(static_image_mode=True)\n",
        "    img = image\n",
        "    height,width,_ = img.shape\n",
        "    img_new = cv2.cvtColor(img,cv2.COLOR_BGR2RGB)\n",
        "    result = face_mesh.process(img_new)\n",
        "    nose_coordinates = []\n",
        "    if result.multi_face_landmarks != None:\n",
        "        for face in result.multi_face_landmarks:\n",
        "            i =0\n",
        "            x_array = []\n",
        "            y_array = []\n",
        "            for landmark in face.landmark:\n",
        "                x = landmark.x\n",
        "                y = landmark.y\n",
        "                relative_x = int(x * width)\n",
        "                relative_y = int(y * height)\n",
        "                x_array.append(relative_x)\n",
        "                y_array.append(relative_y)\n",
        "                if i == 5:\n",
        "                  nose_coordinates.append(int(x * width))\n",
        "                  nose_coordinates.append(int(y * height))\n",
        "                i += 1\n",
        "\n",
        "        # converting the x anx y to numpy arrays\n",
        "        x_array = np.array(x_array)\n",
        "        y_array = np.array(y_array)\n",
        "\n",
        "        # centering the points arround the 195th point \n",
        "        x_center = x_array - x_array[195]\n",
        "        y_center = y_array - y_array[195]\n",
        "\n",
        "        # computing the distance\n",
        "        distance = np.linalg.norm(np.array((x_array[10],y_array[10])) - np.array((x_array[152],y_array[152])),axis = 0)\n",
        "        x_norm = x_center / distance\n",
        "        y_norm = y_center / distance\n",
        "\n",
        "        # concatinating the x and y points to predict the labels (pitch,yaw,roll)\n",
        "        features = np.hstack([x_norm,y_norm]).reshape(1,-1)\n",
        "\n",
        "\n",
        "    return features,nose_coordinates"
      ],
      "metadata": {
        "id": "teOZApjEYFvA"
      },
      "execution_count": 15,
      "outputs": []
    },
    {
      "cell_type": "code",
      "source": [
        "# a function to draw the axes\n",
        "def draw_axes(img, pitch, yaw, roll, tx = None, ty = None, size=100):\n",
        "\n",
        "    yaw = -yaw\n",
        "    if tx != None and ty != None:\n",
        "      tdx = tx\n",
        "      tdy = ty\n",
        "    else:\n",
        "        height, width = img.shape[:2]\n",
        "        tdx = width / 2\n",
        "        tdy = height / 2\n",
        "    rotation_matrix = cv2.Rodrigues(np.array([pitch, yaw, roll]))[0].astype(np.float64)\n",
        "    axes_points = np.array([\n",
        "        [1, 0, 0, 0],\n",
        "        [0, 1, 0, 0],\n",
        "        [0, 0, 1.25, 0]\n",
        "    ], dtype=np.float64)\n",
        "    axes_points = rotation_matrix @ axes_points\n",
        "    axes_points = (axes_points[:2, :] * size).astype(int)\n",
        "    axes_points[0, :] = axes_points[0, :] + tx\n",
        "    axes_points[1, :] = axes_points[1, :] + ty\n",
        "    \n",
        "    yaw_str = \"Yaw: \" + str((yaw * 180/np.pi).round(4))\n",
        "    pitch_str = \"Pitch: \" + str((pitch * 180/np.pi).round(4))\n",
        "    roll_str = \"Roll: \" + str((roll * 180/np.pi).round(4))\n",
        "    font = cv2.FONT_HERSHEY_PLAIN\n",
        "    color = (0, 0, 255)\n",
        "\n",
        "\n",
        "\n",
        "    new_img = img.copy()\n",
        "    cv2.line(new_img, tuple(axes_points[:, 3].ravel()), tuple(axes_points[:, 0].ravel()), (255, 0, 0), 3)    \n",
        "    cv2.line(new_img, tuple(axes_points[:, 3].ravel()), tuple(axes_points[:, 1].ravel()), (0, 255, 0), 3)\n",
        "    cv2.line(new_img, tuple(axes_points[:, 3].ravel()), tuple(axes_points[:, 2].ravel()), (0, 0, 255), 3)\n",
        "    cv2.putText(new_img, pitch_str, (20, 40), font, 1.5, color, 2)\n",
        "    cv2.putText(new_img, yaw_str, (20, 70), font, 1.5, color, 2) \n",
        "    cv2.putText(new_img, roll_str, (20, 100), font, 1.5, color, 2)\n",
        "\n",
        "\n",
        "    return new_img"
      ],
      "metadata": {
        "id": "Bcu1zQuSYFxy"
      },
      "execution_count": 16,
      "outputs": []
    },
    {
      "cell_type": "code",
      "source": [],
      "metadata": {
        "id": "wWvzXoJWnJiW"
      },
      "execution_count": null,
      "outputs": []
    },
    {
      "cell_type": "code",
      "source": [],
      "metadata": {
        "id": "Bwn4VNxDvitQ"
      },
      "execution_count": null,
      "outputs": []
    },
    {
      "cell_type": "markdown",
      "source": [
        "# Testing on an image"
      ],
      "metadata": {
        "id": "eatBDlCwvjZ8"
      }
    },
    {
      "cell_type": "markdown",
      "source": [
        "in the next cell we are reading the test image using opencv and using the function getting_main_points we extract the features and the nose coordinates and using our model we predict the angles of the face which is y_pred"
      ],
      "metadata": {
        "id": "1EgvlJObDS7D"
      }
    },
    {
      "cell_type": "code",
      "source": [
        "test_image = cv2.imread(images[201])\n",
        "x_1,nose_coordinate = getting_main_points(test_image)\n",
        "y_pred = grid_search.predict(x_1)"
      ],
      "metadata": {
        "id": "nPbMyOjAnKFH"
      },
      "execution_count": 17,
      "outputs": []
    },
    {
      "cell_type": "code",
      "source": [
        "cv2_imshow(draw_axes(test_image, y_pred[0,0],y_pred[0,1], y_pred[0,2],tx = nose_coordinate[0],ty = nose_coordinate[1]))"
      ],
      "metadata": {
        "colab": {
          "base_uri": "https://localhost:8080/",
          "height": 467
        },
        "id": "YOGGvS85nl7N",
        "outputId": "fe1e3780-c217-49d5-e547-6c56e0e2828e"
      },
      "execution_count": 18,
      "outputs": [
        {
          "output_type": "display_data",
          "data": {
            "text/plain": [
              "<PIL.Image.Image image mode=RGB size=450x450 at 0x7FB94A672DF0>"
            ],
            "image/png": "[encoded data removed]"
          },
          "metadata": {}
        }
      ]
    },
    {
      "cell_type": "code",
      "source": [],
      "metadata": {
        "id": "utl-swXonmA-"
      },
      "execution_count": null,
      "outputs": []
    },
    {
      "cell_type": "markdown",
      "source": [
        "# Testing on a video"
      ],
      "metadata": {
        "id": "tR5SjP42w-jX"
      }
    },
    {
      "cell_type": "code",
      "source": [
        "from google.colab import files\n",
        "uploaded2 = files.upload()"
      ],
      "metadata": {
        "colab": {
          "base_uri": "https://localhost:8080/",
          "height": 38
        },
        "id": "15rUMzI7lIV9",
        "outputId": "bfd54bf7-2db6-4e04-95b1-c3bef40f2976"
      },
      "execution_count": 21,
      "outputs": [
        {
          "output_type": "display_data",
          "data": {
            "text/plain": [
              "<IPython.core.display.HTML object>"
            ],
            "text/html": [
              "\n",
              "     <input type=\"file\" id=\"files-7aeb6e4f-2d11-41bd-8c3e-b70647f7b783\" name=\"files[]\" multiple disabled\n",
              "        style=\"border:none\" />\n",
              "     <output id=\"result-7aeb6e4f-2d11-41bd-8c3e-b70647f7b783\">\n",
              "      Upload widget is only available when the cell has been executed in the\n",
              "      current browser session. Please rerun this cell to enable.\n",
              "      </output>\n",
              "      <script>// Copyright 2017 Google LLC\n",
              "//\n",
              "// Licensed under the Apache License, Version 2.0 (the \"License\");\n",
              "// you may not use this file except in compliance with the License.\n",
              "// You may obtain a copy of the License at\n",
              "//\n",
              "//      http://www.apache.org/licenses/LICENSE-2.0\n",
              "//\n",
              "// Unless required by applicable law or agreed to in writing, software\n",
              "// distributed under the License is distributed on an \"AS IS\" BASIS,\n",
              "// WITHOUT WARRANTIES OR CONDITIONS OF ANY KIND, either express or implied.\n",
              "// See the License for the specific language governing permissions and\n",
              "// limitations under the License.\n",
              "\n",
              "/**\n",
              " * @fileoverview Helpers for google.colab Python module.\n",
              " */\n",
              "(function(scope) {\n",
              "function span(text, styleAttributes = {}) {\n",
              "  const element = document.createElement('span');\n",
              "  element.textContent = text;\n",
              "  for (const key of Object.keys(styleAttributes)) {\n",
              "    element.style[key] = styleAttributes[key];\n",
              "  }\n",
              "  return element;\n",
              "}\n",
              "\n",
              "// Max number of bytes which will be uploaded at a time.\n",
              "const MAX_PAYLOAD_SIZE = 100 * 1024;\n",
              "\n",
              "function _uploadFiles(inputId, outputId) {\n",
              "  const steps = uploadFilesStep(inputId, outputId);\n",
              "  const outputElement = document.getElementById(outputId);\n",
              "  // Cache steps on the outputElement to make it available for the next call\n",
              "  // to uploadFilesContinue from Python.\n",
              "  outputElement.steps = steps;\n",
              "\n",
              "  return _uploadFilesContinue(outputId);\n",
              "}\n",
              "\n",
              "// This is roughly an async generator (not supported in the browser yet),\n",
              "// where there are multiple asynchronous steps and the Python side is going\n",
              "// to poll for completion of each step.\n",
              "// This uses a Promise to block the python side on completion of each step,\n",
              "// then passes the result of the previous step as the input to the next step.\n",
              "function _uploadFilesContinue(outputId) {\n",
              "  const outputElement = document.getElementById(outputId);\n",
              "  const steps = outputElement.steps;\n",
              "\n",
              "  const next = steps.next(outputElement.lastPromiseValue);\n",
              "  return Promise.resolve(next.value.promise).then((value) => {\n",
              "    // Cache the last promise value to make it available to the next\n",
              "    // step of the generator.\n",
              "    outputElement.lastPromiseValue = value;\n",
              "    return next.value.response;\n",
              "  });\n",
              "}\n",
              "\n",
              "/**\n",
              " * Generator function which is called between each async step of the upload\n",
              " * process.\n",
              " * @param {string} inputId Element ID of the input file picker element.\n",
              " * @param {string} outputId Element ID of the output display.\n",
              " * @return {!Iterable<!Object>} Iterable of next steps.\n",
              " */\n",
              "function* uploadFilesStep(inputId, outputId) {\n",
              "  const inputElement = document.getElementById(inputId);\n",
              "  inputElement.disabled = false;\n",
              "\n",
              "  const outputElement = document.getElementById(outputId);\n",
              "  outputElement.innerHTML = '';\n",
              "\n",
              "  const pickedPromise = new Promise((resolve) => {\n",
              "    inputElement.addEventListener('change', (e) => {\n",
              "      resolve(e.target.files);\n",
              "    });\n",
              "  });\n",
              "\n",
              "  const cancel = document.createElement('button');\n",
              "  inputElement.parentElement.appendChild(cancel);\n",
              "  cancel.textContent = 'Cancel upload';\n",
              "  const cancelPromise = new Promise((resolve) => {\n",
              "    cancel.onclick = () => {\n",
              "      resolve(null);\n",
              "    };\n",
              "  });\n",
              "\n",
              "  // Wait for the user to pick the files.\n",
              "  const files = yield {\n",
              "    promise: Promise.race([pickedPromise, cancelPromise]),\n",
              "    response: {\n",
              "      action: 'starting',\n",
              "    }\n",
              "  };\n",
              "\n",
              "  cancel.remove();\n",
              "\n",
              "  // Disable the input element since further picks are not allowed.\n",
              "  inputElement.disabled = true;\n",
              "\n",
              "  if (!files) {\n",
              "    return {\n",
              "      response: {\n",
              "        action: 'complete',\n",
              "      }\n",
              "    };\n",
              "  }\n",
              "\n",
              "  for (const file of files) {\n",
              "    const li = document.createElement('li');\n",
              "    li.append(span(file.name, {fontWeight: 'bold'}));\n",
              "    li.append(span(\n",
              "        `(${file.type || 'n/a'}) - ${file.size} bytes, ` +\n",
              "        `last modified: ${\n",
              "            file.lastModifiedDate ? file.lastModifiedDate.toLocaleDateString() :\n",
              "                                    'n/a'} - `));\n",
              "    const percent = span('0% done');\n",
              "    li.appendChild(percent);\n",
              "\n",
              "    outputElement.appendChild(li);\n",
              "\n",
              "    const fileDataPromise = new Promise((resolve) => {\n",
              "      const reader = new FileReader();\n",
              "      reader.onload = (e) => {\n",
              "        resolve(e.target.result);\n",
              "      };\n",
              "      reader.readAsArrayBuffer(file);\n",
              "    });\n",
              "    // Wait for the data to be ready.\n",
              "    let fileData = yield {\n",
              "      promise: fileDataPromise,\n",
              "      response: {\n",
              "        action: 'continue',\n",
              "      }\n",
              "    };\n",
              "\n",
              "    // Use a chunked sending to avoid message size limits. See b/62115660.\n",
              "    let position = 0;\n",
              "    do {\n",
              "      const length = Math.min(fileData.byteLength - position, MAX_PAYLOAD_SIZE);\n",
              "      const chunk = new Uint8Array(fileData, position, length);\n",
              "      position += length;\n",
              "\n",
              "      const base64 = btoa(String.fromCharCode.apply(null, chunk));\n",
              "      yield {\n",
              "        response: {\n",
              "          action: 'append',\n",
              "          file: file.name,\n",
              "          data: base64,\n",
              "        },\n",
              "      };\n",
              "\n",
              "      let percentDone = fileData.byteLength === 0 ?\n",
              "          100 :\n",
              "          Math.round((position / fileData.byteLength) * 100);\n",
              "      percent.textContent = `${percentDone}% done`;\n",
              "\n",
              "    } while (position < fileData.byteLength);\n",
              "  }\n",
              "\n",
              "  // All done.\n",
              "  yield {\n",
              "    response: {\n",
              "      action: 'complete',\n",
              "    }\n",
              "  };\n",
              "}\n",
              "\n",
              "scope.google = scope.google || {};\n",
              "scope.google.colab = scope.google.colab || {};\n",
              "scope.google.colab._files = {\n",
              "  _uploadFiles,\n",
              "  _uploadFilesContinue,\n",
              "};\n",
              "})(self);\n",
              "</script> "
            ]
          },
          "metadata": {}
        }
      ]
    },
    {
      "cell_type": "code",
      "source": [
        "cap = cv2.VideoCapture(\"/content/Ultra realistic Deepfake of Elon Musk.mp4\")\n",
        "fps = cap.get(cv2.CAP_PROP_FPS)\n",
        "\n",
        "# Get the frame size (width, height) of the input video\n",
        "frame_width = int(cap.get(cv2.CAP_PROP_FRAME_WIDTH))\n",
        "frame_height = int(cap.get(cv2.CAP_PROP_FRAME_HEIGHT))\n",
        "fourcc = cv2.VideoWriter_fourcc(*'mp4v') \n",
        "video_name = 'project_result.mp4'\n",
        "video = cv2.VideoWriter(video_name, fourcc, fps, (frame_width, frame_height))\n",
        "\n",
        "while (cap.isOpened()):\n",
        "\n",
        "  ret, frame = cap.read()\n",
        "\n",
        "  if not ret:\n",
        "    break \n",
        "\n",
        "  x_frame,nose_coo = getting_main_points(frame)\n",
        "  if len(nose_coo) == 2:\n",
        "    nose_coordinate = nose_coo\n",
        "\n",
        "  if x_frame.shape[1] == 936:\n",
        "      y_pred = grid_search.predict(x_frame)\n",
        "  \n",
        "  result_img = draw_axes(frame, y_pred[0,0],y_pred[0,1], y_pred[0,2],tx = nose_coordinate[0],ty = nose_coordinate[1])\n",
        "  video.write(result_img)\n",
        "\n",
        "cv2.destroyAllWindows()\n",
        "video.release()"
      ],
      "metadata": {
        "id": "8Lof3OG2lIbk"
      },
      "execution_count": 19,
      "outputs": []
    },
    {
      "cell_type": "code",
      "source": [],
      "metadata": {
        "id": "v24lBFmZlIh-"
      },
      "execution_count": null,
      "outputs": []
    },
    {
      "cell_type": "code",
      "source": [],
      "metadata": {
        "id": "CZyA4-GBlIoS"
      },
      "execution_count": null,
      "outputs": []
    },
    {
      "cell_type": "code",
      "source": [],
      "metadata": {
        "id": "lIMB-KcolIuH"
      },
      "execution_count": null,
      "outputs": []
    },
    {
      "cell_type": "code",
      "source": [],
      "metadata": {
        "id": "LmTGIVanlIzj"
      },
      "execution_count": null,
      "outputs": []
    }
  ]
}